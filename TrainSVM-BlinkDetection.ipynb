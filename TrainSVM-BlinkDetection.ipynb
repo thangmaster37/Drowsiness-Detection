{
 "cells": [
  {
   "cell_type": "code",
   "execution_count": 2,
   "metadata": {
    "collapsed": true
   },
   "outputs": [
    {
     "name": "stderr",
     "output_type": "stream",
     "text": [
      "c:\\Users\\thang\\AppData\\Local\\Programs\\Python\\Python310\\lib\\site-packages\\scipy\\__init__.py:146: UserWarning: A NumPy version >=1.17.3 and <1.25.0 is required for this version of SciPy (detected version 1.26.4\n",
      "  warnings.warn(f\"A NumPy version >={np_minversion} and <{np_maxversion}\"\n"
     ]
    }
   ],
   "source": [
    "from scipy.spatial import distance as dist\n",
    "from imutils import face_utils\n",
    "import imutils\n",
    "import dlib\n",
    "import cv2\n",
    "import glob\n",
    "import progressbar\n",
    "import numpy as np\n",
    "from sklearn import svm\n",
    "import pickle\n",
    "from sklearn.metrics import accuracy_score"
   ]
  },
  {
   "cell_type": "code",
   "execution_count": 3,
   "metadata": {
    "collapsed": false,
    "pycharm": {
     "name": "#%%\n"
    }
   },
   "outputs": [],
   "source": [
    "def eye_aspect_ratio(eye):\n",
    "\t# compute the euclidean distances between the two sets of\n",
    "\t# vertical eye landmarks (x, y)-coordinates\n",
    "\tA = dist.euclidean(eye[1], eye[5])\n",
    "\tB = dist.euclidean(eye[2], eye[4])\n",
    "\n",
    "\t# compute the euclidean distance between the horizontal\n",
    "\t# eye landmark (x, y)-coordinates\n",
    "\tC = dist.euclidean(eye[0], eye[3])\n",
    "\n",
    "\t# compute the eye aspect ratio\n",
    "\tear = (A + B) / (2.0 * C)\n",
    "\n",
    "\t# return the eye aspect ratio\n",
    "\treturn ear"
   ]
  },
  {
   "cell_type": "code",
   "execution_count": 4,
   "metadata": {
    "collapsed": false,
    "pycharm": {
     "name": "#%%\n"
    }
   },
   "outputs": [],
   "source": [
    "def get_areas(img):\n",
    "    #Find eyes in faces\n",
    "    detector = dlib.get_frontal_face_detector()\n",
    "    predictor = dlib.shape_predictor(\"./shape_predictor_68_face_landmarks.dat\")\n",
    "    (lStart, lEnd) = face_utils.FACIAL_LANDMARKS_IDXS[\"left_eye\"]\n",
    "    (rStart, rEnd) = face_utils.FACIAL_LANDMARKS_IDXS[\"right_eye\"]\n",
    "\n",
    "    imutils.resize(image=img, width=450)\n",
    "    gray = cv2.cvtColor(img, cv2.COLOR_BGR2GRAY)\n",
    "\n",
    "    rects = detector(gray, 0)\n",
    "    # loop over the face detections\n",
    "    for rect in rects:\n",
    "        # determine the facial landmarks for the face region, then\n",
    "        # convert the facial landmark (x, y)-coordinates to a NumPy\n",
    "        # array\n",
    "        shape = predictor(gray, rect)\n",
    "        shape = face_utils.shape_to_np(shape)\n",
    "\n",
    "        # extract the left and right eye coordinates, then use the\n",
    "        # coordinates to compute the eye aspect ratio for both eyes\n",
    "        leftEye = shape[lStart:lEnd]\n",
    "        rightEye = shape[rStart:rEnd]\n",
    "        leftEAR = eye_aspect_ratio(leftEye)\n",
    "        rightEAR = eye_aspect_ratio(rightEye)\n",
    "\n",
    "        # average the eye aspect ratio together for both eyes\n",
    "        ear = (leftEAR + rightEAR) / 2.0\n",
    "\n",
    "        # check to see if the eye aspect ratio is below the blink\n",
    "        # threshold, and if so, increment the blink frame counter\n",
    "        return ear"
   ]
  },
  {
   "cell_type": "code",
   "execution_count": null,
   "metadata": {},
   "outputs": [],
   "source": [
    "dataset_path = \"./Dataset/CEW/\"\n",
    "imagesclosed = [cv2.imread(file) for file in\n",
    "                glob.glob(dataset_path + \"ClosedFace/\" + \"*.jpg\")]\n",
    "imagesopen = [cv2.imread(file) for file in glob.glob(dataset_path + \"/OpenFace/\" + \"*.jpg\")]\n",
    "\n",
    "X = []\n",
    "Y = []\n",
    "X_test = []\n",
    "Y_test = []\n",
    "\n",
    "bar = progressbar.ProgressBar(maxval=len(imagesclosed),\n",
    "                              widgets=[progressbar.Bar('=', '[', ']'), ' ', progressbar.Percentage()])\n",
    "bar.start()\n",
    "for idx, im in enumerate(imagesclosed):\n",
    "    bar.update(idx + 1)\n",
    "    e = get_areas(im)\n",
    "    if e is not None: #Avoid dirty data derived by faceland detector\n",
    "        if idx > len(imagesclosed) * 0.9: #Take 10% of images with closed eyes as test\n",
    "            X_test.append(e)\n",
    "            Y_test.append(0)\n",
    "        else: #Use the rest for train\n",
    "            X.append(e)\n",
    "            Y.append(0)\n",
    "bar.finish()\n",
    "\n",
    "bar = progressbar.ProgressBar(maxval=len(imagesopen),\n",
    "                              widgets=[progressbar.Bar('=', '[', ']'), ' ', progressbar.Percentage()])\n",
    "bar.start()\n",
    "for idx, im in enumerate(imagesopen):\n",
    "    bar.update(idx + 1)\n",
    "    e = get_areas(im)\n",
    "    if e is not None:  # Avoid dirty data derived by faceland detector\n",
    "        if idx > len(imagesopen) * 0.9:  # Take 10% of images with closed eyes as test\n",
    "            X_test.append(e)\n",
    "            Y_test.append(1)\n",
    "        else:  # Use the rest for train\n",
    "            X.append(e)\n",
    "            Y.append(1)\n",
    "bar.finish()\n",
    "\n",
    "X = np.asarray(X).reshape(-1, 1)\n",
    "Y = np.asarray(Y)\n",
    "X_test = np.asarray(X_test).reshape(-1, 1)\n",
    "Y_test = np.asarray(Y_test)\n",
    "\n",
    "model = svm.SVC(C=1000, gamma=0.1)\n",
    "model.fit(X, Y)"
   ]
  },
  {
   "cell_type": "code",
   "execution_count": 10,
   "metadata": {
    "collapsed": false,
    "pycharm": {
     "name": "#%%\n"
    }
   },
   "outputs": [
    {
     "name": "stdout",
     "output_type": "stream",
     "text": [
      "0.8868778280542986\n"
     ]
    }
   ],
   "source": [
    "#Evaluate\n",
    "predicted_labels = model.predict(X_test)\n",
    "\n",
    "# get the accuracy\n",
    "print(accuracy_score(Y_test, predicted_labels))\n",
    "filename = 'svm_C=1000_gamma=0.1.sav'\n",
    "pickle.dump(model, open(filename, 'wb'))\n"
   ]
  },
  {
   "cell_type": "code",
   "execution_count": 5,
   "metadata": {},
   "outputs": [],
   "source": [
    "image_open = [cv2.imread(file) for file in glob.glob(\"./image_open.jpg\")]\n",
    "for idx, im in enumerate(image_open):\n",
    "    e_open = get_areas(im)"
   ]
  },
  {
   "cell_type": "code",
   "execution_count": 6,
   "metadata": {},
   "outputs": [],
   "source": [
    "image_closed = [cv2.imread(file) for file in glob.glob(\"./image_closed.jpg\")]\n",
    "for idx, im in enumerate(image_closed):\n",
    "    e_closed = get_areas(im)"
   ]
  },
  {
   "cell_type": "code",
   "execution_count": 7,
   "metadata": {},
   "outputs": [
    {
     "data": {
      "text/plain": [
       "array([1])"
      ]
     },
     "execution_count": 7,
     "metadata": {},
     "output_type": "execute_result"
    }
   ],
   "source": [
    "# Load the model from disk\n",
    "loaded_model = pickle.load(open('./svm_C=1000_gamma=0.1.sav', 'rb'))\n",
    "predict1 = loaded_model.predict([[e_open]])\n",
    "predict1 # 1 is open # 0 is closed"
   ]
  },
  {
   "cell_type": "code",
   "execution_count": 8,
   "metadata": {},
   "outputs": [
    {
     "name": "stdout",
     "output_type": "stream",
     "text": [
      "[0]\n"
     ]
    }
   ],
   "source": [
    "predict2 = loaded_model.predict([[e_closed]])\n",
    "print(predict2)"
   ]
  }
 ],
 "metadata": {
  "kernelspec": {
   "display_name": "Python 3",
   "language": "python",
   "name": "python3"
  },
  "language_info": {
   "codemirror_mode": {
    "name": "ipython",
    "version": 3
   },
   "file_extension": ".py",
   "mimetype": "text/x-python",
   "name": "python",
   "nbconvert_exporter": "python",
   "pygments_lexer": "ipython3",
   "version": "3.10.2"
  }
 },
 "nbformat": 4,
 "nbformat_minor": 0
}
